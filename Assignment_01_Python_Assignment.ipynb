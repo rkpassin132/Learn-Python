{
  "nbformat": 4,
  "nbformat_minor": 0,
  "metadata": {
    "colab": {
      "provenance": [],
      "toc_visible": true,
      "authorship_tag": "ABX9TyOkxpdzn8yQp4nArtoTUhCD",
      "include_colab_link": true
    },
    "kernelspec": {
      "name": "python3",
      "display_name": "Python 3"
    },
    "language_info": {
      "name": "python"
    }
  },
  "cells": [
    {
      "cell_type": "markdown",
      "metadata": {
        "id": "view-in-github",
        "colab_type": "text"
      },
      "source": [
        "<a href=\"https://colab.research.google.com/github/rkpassin132/Learn-Python/blob/main/Assignment_01_Python_Assignment.ipynb\" target=\"_parent\"><img src=\"https://colab.research.google.com/assets/colab-badge.svg\" alt=\"Open In Colab\"/></a>"
      ]
    },
    {
      "cell_type": "markdown",
      "source": [
        "# Python Assignment 01\n"
      ],
      "metadata": {
        "id": "xO-8OGYjo8_F"
      }
    },
    {
      "cell_type": "markdown",
      "source": [
        "### Q1. L is a list defined as L= [11, 12, 13, 14]."
      ],
      "metadata": {
        "id": "c1CA9-LuRZXe"
      }
    },
    {
      "cell_type": "code",
      "source": [
        "L = [11 ,12, 13, 14]\n",
        "\n",
        "# (i) WAP to add 50 and 60 to L.\n",
        "L.append(50)\n",
        "L.append(60)\n",
        "print(L)\n",
        "\n",
        "# (ii) 1WAP to remove 11 and 13from L.\n",
        "del L[0]\n",
        "del L[1]\n",
        "print(L)\n",
        "\n",
        "# (iii) WAP to sort L in ascending order.\n",
        "L.sort()\n",
        "print(L)\n",
        "\n",
        "# (iv) WAP to sort L in descending order.\n",
        "L.sort(reverse=True)\n",
        "print(L)\n",
        "\n",
        "# (v) WAP to search for 13 in L.\n",
        "if 13 in L:\n",
        "    print(\"13 is present\")\n",
        "else:\n",
        "    print(\"13 not present\")\n",
        "\n",
        "# (vi) WAP to count the number of elements present in L.\n",
        "print(\"Lenght of elements --> \" , len(L))\n",
        "\n",
        "# (vii) WAP to sum all the elements in L.\n",
        "print(\"Sum of elements --> \" , sum(L))\n",
        "\n",
        "# (viii) WAP to sum all ODD numbers in L.\n",
        "oddSum = 0\n",
        "for e in L:\n",
        "    if(e % 2 != 0):\n",
        "        oddSum += e\n",
        "print(\"Sum all ODD numbers --> \", oddSum)\n",
        "\n",
        "# (ix) WAP to sum all EVEN numbers in L.\n",
        "evenSum = 0\n",
        "for e in L:\n",
        "    if(e % 2 == 0):\n",
        "        evenSum += e\n",
        "print(\"Sum all EVEN numbers --> \", evenSum)\n",
        "\n",
        "# (x) WAP to sum all PRIME numbers in L.\n",
        "def IsPrime(n):\n",
        "\tfor i in range(2, n//2 + 1):\n",
        "\t\tif n%i==0:\n",
        "\t\t\treturn False\n",
        "\treturn True                 \n",
        "\n",
        "primeSum = 0\n",
        "for e in L:\n",
        "    if IsPrime(e):\n",
        "        primeSum += e\n",
        "print(\"Sum all PRIME numbers --> \", primeSum)\n",
        "\n",
        "# (xi) WAP to clear all the elements in L.\n",
        "L.clear()\n",
        "print(L)\n",
        "\n",
        "# (xii) WAP to delete L.\n",
        "del L"
      ],
      "metadata": {
        "colab": {
          "base_uri": "https://localhost:8080/"
        },
        "id": "3uBvfrdfp-e4",
        "outputId": "11c19b2e-7bb3-4dfc-92ae-4ae77896c7cb"
      },
      "execution_count": null,
      "outputs": [
        {
          "output_type": "stream",
          "name": "stdout",
          "text": [
            "[11, 12, 13, 14, 50, 60]\n",
            "[12, 14, 50, 60]\n",
            "[12, 14, 50, 60]\n",
            "[60, 50, 14, 12]\n",
            "13 not present\n",
            "Lenght of elements -->  4\n",
            "Sum of elements -->  136\n",
            "Sum all ODD numbers -->  0\n",
            "Sum all EVEN numbers -->  136\n",
            "Sum all PRIME numbers -->  0\n",
            "[]\n"
          ]
        }
      ]
    },
    {
      "cell_type": "markdown",
      "source": [
        "### Q2. D is a dictionary defined as D= {1:5.6, 2:7.8, 3:6.6, 4:8.7, 5:7.7}."
      ],
      "metadata": {
        "id": "yNTQrv9L1liz"
      }
    },
    {
      "cell_type": "code",
      "source": [
        "D= {1:5.6, 2:7.8, 3:6.6, 4:8.7, 5:7.7}\n",
        "\n",
        "# (i) WAP to add new entry in D; key=8 and value is 8.8\n",
        "D[8] = 8.8\n",
        "print(D)\n",
        "\n",
        "# (ii) WAP to remove key=2.\n",
        "del D[2]\n",
        "print(D)\n",
        "\n",
        "# (iii) WAP to check weather 6 key is present in D.\n",
        "if(6 in D):\n",
        "    print(\"6 Key present in D\")\n",
        "else:\n",
        "    print(\"6 Key not present in D\")\n",
        "\n",
        "# (iv) WAP to count the number of elements present in D.\n",
        "print(\"Length of D --> \",len(D))\n",
        "\n",
        "# (v) WAP to add all the values present D.\n",
        "print(\"Sum of all value in D --> \", sum(D.values()))\n",
        "\n",
        "# (vi) WAP to update the value of 3 to 7.1.\n",
        "D[3] = 7.1\n",
        "print(D)\n",
        "\n",
        "# (vii) WAP to clear the dictionary.\n",
        "D.clear()\n",
        "print(D)"
      ],
      "metadata": {
        "id": "ZYx64Tx11xKU",
        "colab": {
          "base_uri": "https://localhost:8080/"
        },
        "outputId": "30db118d-4ba0-47f7-94f2-5ec79a7d5784"
      },
      "execution_count": null,
      "outputs": [
        {
          "output_type": "stream",
          "name": "stdout",
          "text": [
            "{1: 5.6, 2: 7.8, 3: 6.6, 4: 8.7, 5: 7.7, 8: 8.8}\n",
            "{1: 5.6, 3: 6.6, 4: 8.7, 5: 7.7, 8: 8.8}\n",
            "6 Key not present in D\n",
            "Length of D -->  5\n",
            "Sum of all value in D -->  37.4\n",
            "{1: 5.6, 3: 7.1, 4: 8.7, 5: 7.7, 8: 8.8}\n",
            "{}\n"
          ]
        }
      ]
    },
    {
      "cell_type": "markdown",
      "source": [
        "### Q3. S1 is a set defined as S1= [10, 20, 30, 40, 50, 60].\n",
        "#### S2 is a set defined as S2= [40, 50, 60, 70, 80, 90].\n"
      ],
      "metadata": {
        "id": "0IEevvC-4xY4"
      }
    },
    {
      "cell_type": "code",
      "source": [
        "S1= set([10, 20, 30, 40, 50, 60])\n",
        "S2= set([40, 50, 60, 70, 80, 90])\n",
        "\n",
        "# (i) WAP to add 55 and 66 in Set S1.\n",
        "S1.add(55)\n",
        "S1.add(66)\n",
        "print(S1)\n",
        "\n",
        "# (ii) WAP to remove 10 and 30 from Set S1.\n",
        "S1.remove(10)\n",
        "S1.remove(30)\n",
        "print(S1)\n",
        "\n",
        "# (iii) WAP to check whether 40 is present in S1.\n",
        "if(40 in S1):\n",
        "    print(\"40 is present in S1\")\n",
        "else:\n",
        "    print(\"40 is not present in S1\")\n",
        "\n",
        "# (iv) WAP to find the union between S1 and S2.\n",
        "print (\"Union of S1 and S2    --> \", S1.union(S2))\n",
        "\n",
        "# (v) WAP to find the intersection between S1 and S2.\n",
        "print (\"Intersection of S1 and S2    --> \", S1.intersection(S2))\n",
        "\n",
        "# (vi) WAP to find the S1 - S2.\n",
        "print (\"Difference S1 - S2    --> \", S1 - S2)\n"
      ],
      "metadata": {
        "id": "9EE5vV967BVb",
        "colab": {
          "base_uri": "https://localhost:8080/"
        },
        "outputId": "b25398b4-ca50-49e1-902a-91b4221130fa"
      },
      "execution_count": null,
      "outputs": [
        {
          "output_type": "stream",
          "name": "stdout",
          "text": [
            "{66, 40, 10, 50, 20, 55, 60, 30}\n",
            "{66, 40, 50, 20, 55, 60}\n",
            "40 is present in S1\n",
            "Union of S1 and S2    -->  {66, 70, 40, 80, 50, 20, 55, 90, 60}\n",
            "Intersection of S1 and S2    -->  {40, 50, 60}\n",
            "Difference S1 - S2    -->  {66, 20, 55}\n"
          ]
        }
      ]
    },
    {
      "cell_type": "markdown",
      "source": [
        "### Q4. Write the following program."
      ],
      "metadata": {
        "id": "UVgt3Rj97HVH"
      }
    },
    {
      "cell_type": "code",
      "source": [
        "import random as r\n",
        "import string as s\n",
        "\n",
        "letter = s.ascii_letters\n",
        "# (i) WAP to print 100 random strings whose length between 6 and 8.\n",
        "for i in range(0, 100):\n",
        "    print(\"\".join(r.sample(letter, r.randint(6,8)))) \n",
        "\n",
        "# (ii) WAP to print all prime numbers between 600 and 800.\n",
        "def IsPrime(n):\n",
        "\tfor i in range(2, n//2 + 1):\n",
        "\t\tif n%i==0:\n",
        "\t\t\treturn False\n",
        "\treturn True    \n",
        "\n",
        "for i in range(600, 801):\n",
        "\tif(IsPrime(i)):\n",
        "\t\tprint(i, \" is Prime no\") \n",
        "\n",
        "# (iii) WAP to print all numbers between 100 and 1000 that are divisible by 7 and 9\n",
        "nl=[]\n",
        "for x in range(100, 1001):\n",
        "    if (x%7==0) and (x%9==0):\n",
        "        nl.append(str(x))\n",
        "print(\"\\nNumber divisible by 7 and 9\")\n",
        "print (','.join(nl))"
      ],
      "metadata": {
        "id": "Za4d3znQ7Ma9",
        "colab": {
          "base_uri": "https://localhost:8080/"
        },
        "outputId": "3d020b95-899c-41a2-df3b-2221ce894b53"
      },
      "execution_count": null,
      "outputs": [
        {
          "output_type": "stream",
          "name": "stdout",
          "text": [
            "FsYzIAhp\n",
            "hOxUYVfr\n",
            "VkpwPBx\n",
            "WlnxsryN\n",
            "HCsxOhAD\n",
            "MVxSAWf\n",
            "KPXmEUB\n",
            "FPmSoH\n",
            "yVvOaz\n",
            "osYhJe\n",
            "uLxnQPZq\n",
            "PNEJdxQY\n",
            "vLPqBifC\n",
            "IfuTayl\n",
            "cYVkEQ\n",
            "gKyHcbhJ\n",
            "FcVmJEGa\n",
            "UVhuYH\n",
            "gGYZCchJ\n",
            "ETuLUhpg\n",
            "vkhZCHP\n",
            "dvxNRh\n",
            "QzexNcfI\n",
            "aZEoKI\n",
            "LGkXSfRQ\n",
            "hPWiTUQ\n",
            "yetjCMZ\n",
            "svupqyMT\n",
            "EMDCmpeH\n",
            "UaIGZQm\n",
            "iDRmFgN\n",
            "cqkzypiD\n",
            "OhZQjw\n",
            "hrAnKJ\n",
            "tMryhL\n",
            "IkjstVD\n",
            "jbGltMBS\n",
            "AaFEwSt\n",
            "RHpwPSiZ\n",
            "HVhtyqS\n",
            "BgxevJ\n",
            "Wdfujbq\n",
            "VtsjwI\n",
            "oQTiJbPL\n",
            "daBYuSh\n",
            "tjqLmKD\n",
            "pAvPzLQJ\n",
            "XIUxtl\n",
            "sJImoXfd\n",
            "ZxJNpe\n",
            "vKPOmxjz\n",
            "MrvVIEpQ\n",
            "TflZzK\n",
            "xNADSIvu\n",
            "AIVQlWM\n",
            "rNWVYzv\n",
            "Acnokr\n",
            "bpkwzMiH\n",
            "FLaqUrJ\n",
            "laIXgPpi\n",
            "fvFONjyz\n",
            "HUVArgf\n",
            "cRsCLAlp\n",
            "WCIOgzdt\n",
            "BHaRsVPN\n",
            "XDorsl\n",
            "RFwvHXOi\n",
            "CFWInN\n",
            "lxgAkLy\n",
            "seBpOK\n",
            "OrZnAV\n",
            "GuQFhpdb\n",
            "PZOrKAqT\n",
            "LwEoxRCg\n",
            "xlHVQdOC\n",
            "dZelch\n",
            "EhGjtcS\n",
            "CDbFyBT\n",
            "pZdngt\n",
            "cqNhWgi\n",
            "eCJPDGjF\n",
            "EdmPkLns\n",
            "zpHtTqb\n",
            "iuDKJrE\n",
            "ZdwDlPku\n",
            "jkiRFus\n",
            "PtjMAWn\n",
            "gboFWT\n",
            "saqlSHzx\n",
            "eREpnfk\n",
            "LhuymT\n",
            "tjJoWZ\n",
            "fQEuXRe\n",
            "oKsuBk\n",
            "mtaFTH\n",
            "skTKgNf\n",
            "EhFDltHO\n",
            "tlEumXce\n",
            "MEyRTi\n",
            "jgMyRp\n",
            "601  is Prime no\n",
            "607  is Prime no\n",
            "613  is Prime no\n",
            "617  is Prime no\n",
            "619  is Prime no\n",
            "631  is Prime no\n",
            "641  is Prime no\n",
            "643  is Prime no\n",
            "647  is Prime no\n",
            "653  is Prime no\n",
            "659  is Prime no\n",
            "661  is Prime no\n",
            "673  is Prime no\n",
            "677  is Prime no\n",
            "683  is Prime no\n",
            "691  is Prime no\n",
            "701  is Prime no\n",
            "709  is Prime no\n",
            "719  is Prime no\n",
            "727  is Prime no\n",
            "733  is Prime no\n",
            "739  is Prime no\n",
            "743  is Prime no\n",
            "751  is Prime no\n",
            "757  is Prime no\n",
            "761  is Prime no\n",
            "769  is Prime no\n",
            "773  is Prime no\n",
            "787  is Prime no\n",
            "797  is Prime no\n",
            "\n",
            "Number divisible by 7 and 9\n",
            "126,189,252,315,378,441,504,567,630,693,756,819,882,945\n"
          ]
        }
      ]
    },
    {
      "cell_type": "markdown",
      "source": [
        "### Q5. WAP to create two lists of 10 random numbers between 10 and 30; Find"
      ],
      "metadata": {
        "id": "uXCpRwYy_mah"
      }
    },
    {
      "cell_type": "code",
      "source": [
        "import random as r\n",
        "l1 = []\n",
        "l2 = []\n",
        "for i in range(0,10):\n",
        "    l1.append(r.randint(10,30))\n",
        "    l2.append(r.randint(10,30))\n",
        "print(\"\\n List 1 : \", l1)\n",
        "print(\"List 2 : \", l2)\n",
        "\n",
        "# (i) Common numbers in the two lists\n",
        "setL1 = set(l1)\n",
        "setL2 = set(l2)\n",
        "if(setL1 & setL2):\n",
        "    print(\"Common number : \", setL1 & setL2)\n",
        "\n",
        "# (ii) Unique numbers in both the list\n",
        "print(setL1.union(setL2))\n",
        "\n",
        "# (iii) Minimum in both the list\n",
        "print(\"Minimum of list 1 --> \", min(l1))\n",
        "print(\"Minimum of list 2 --> \", min(l2))\n",
        "\n",
        "# (iv) Maximum in both the list\n",
        "print(\"Maximum of list 1 --> \", max(l1))\n",
        "print(\"Maximum of list 2 --> \", max(l2))\n",
        "\n",
        "# (v) Sum of both the lists\n",
        "print(\"Sum of both list --> \",sum(l1) + sum(l2))"
      ],
      "metadata": {
        "id": "wNuHeoct_t5P",
        "colab": {
          "base_uri": "https://localhost:8080/"
        },
        "outputId": "11dbd1f3-9e14-450a-93d0-feb02704cfa5"
      },
      "execution_count": null,
      "outputs": [
        {
          "output_type": "stream",
          "name": "stdout",
          "text": [
            "\n",
            " List 1 :  [15, 24, 23, 28, 10, 10, 20, 17, 11, 14]\n",
            "List 2 :  [27, 18, 27, 11, 17, 22, 22, 13, 24, 28]\n",
            "Common number :  {24, 17, 11, 28}\n",
            "{10, 11, 13, 14, 15, 17, 18, 20, 22, 23, 24, 27, 28}\n",
            "Minimum of list 1 -->  10\n",
            "Minimum of list 2 -->  11\n",
            "Maximum of list 1 -->  28\n",
            "Maximum of list 2 -->  28\n",
            "Sum of both list -->  381\n"
          ]
        }
      ]
    },
    {
      "cell_type": "markdown",
      "source": [
        "### Q6. WAP to create a list of 100 random numbers between 100 and 900. Count and print the: "
      ],
      "metadata": {
        "id": "80kOK5UNIfx8"
      }
    },
    {
      "cell_type": "code",
      "source": [
        "import random as r\n",
        "l1 = []\n",
        "for i in range(1,101):\n",
        "    l1.append(r.randint(100, 900))\n",
        "\n",
        "l1.sort()\n",
        "\n",
        "# (i) All odd numbers\n",
        "odd = \"\"\n",
        "for i in l1:\n",
        "    if (i % 2 != 0):\n",
        "        odd += str(i) + \", \"\n",
        "\n",
        "print(\"\\nAll odd no : \", odd)    \n",
        "\n",
        "# (ii) All even numbers\n",
        "even = \"\"\n",
        "for i in l1:\n",
        "    if(i%2 == 0):\n",
        "        even += str(i) + \", \"\n",
        "print(\"\\nAll even no : \", even) \n",
        "\n",
        "# (iii) All prime numbers\n",
        "def IsPrime(n):\n",
        "    if(n<=1): return False\n",
        "    if(n==2 or n==3 ): return True\n",
        "    if(n%2 == 0): return False\n",
        "    if(n%3 == 0): return False\n",
        "    for i in range(4, n//2 + 1):\n",
        "         if(n%i==0): return False\n",
        "    return True  \n",
        "\n",
        "prime = \"\"\n",
        "for i in l1:\n",
        "    if(IsPrime(i)):\n",
        "        prime += str(i) + \", \"\n",
        "print(\"\\nAll prime no : \", prime)        "
      ],
      "metadata": {
        "id": "r2maIuMuIpp9",
        "colab": {
          "base_uri": "https://localhost:8080/"
        },
        "outputId": "95753c78-d4fc-46cb-eb9b-e6bcec5f8549"
      },
      "execution_count": null,
      "outputs": [
        {
          "output_type": "stream",
          "name": "stdout",
          "text": [
            "\n",
            "All odd no :  129, 169, 213, 265, 269, 291, 315, 337, 343, 371, 375, 435, 447, 457, 461, 467, 481, 481, 483, 495, 497, 499, 509, 511, 521, 533, 545, 555, 561, 577, 577, 577, 591, 593, 637, 639, 653, 655, 691, 721, 761, 781, 787, 795, 811, 813, 839, 863, 895, \n",
            "\n",
            "All even no :  104, 114, 128, 142, 156, 164, 174, 198, 220, 222, 242, 260, 292, 296, 326, 338, 366, 376, 420, 448, 474, 474, 516, 522, 532, 548, 548, 586, 602, 638, 644, 658, 666, 682, 700, 708, 710, 724, 744, 774, 780, 780, 782, 796, 818, 830, 844, 858, 862, 868, 898, \n",
            "\n",
            "All prime no :  269, 337, 457, 461, 467, 499, 509, 521, 577, 577, 577, 593, 653, 691, 761, 787, 811, 839, 863, \n"
          ]
        }
      ]
    },
    {
      "cell_type": "markdown",
      "source": [
        "### Q7. D is a dictionary defined as \n",
        "`D={1:\"One\",2:\"Two\",3:\"Three\",4:\"Four\", 5:\"Five\"}`\n",
        " \n",
        " WAP to read all the keys and values from dictionary and write to the file in the given below format.\n",
        " ```\n",
        " Key1, Value1\n",
        " Key2, Value2\n",
        " Key3, Value3\n",
        " ```"
      ],
      "metadata": {
        "id": "Aj3h7sbBOaK6"
      }
    },
    {
      "cell_type": "code",
      "source": [
        "D={1:\"One\",2:\"Two\",3:\"Three\",4:\"Four\", 5:\"Five\"}\n",
        "Writefp=open('question7.txt','w')\n",
        "for i in D:\n",
        "    Writefp.write(str(i) +\", \"+ str(D[i]) + \"\\n\")\n",
        "Writefp.close()\n",
        "print(\"writing is done !\")    "
      ],
      "metadata": {
        "colab": {
          "base_uri": "https://localhost:8080/"
        },
        "id": "8udGjN7_PZmW",
        "outputId": "f216ce37-ba17-40f3-cdb6-00c02b99be65"
      },
      "execution_count": null,
      "outputs": [
        {
          "output_type": "stream",
          "name": "stdout",
          "text": [
            "writing is done !\n"
          ]
        }
      ]
    },
    {
      "cell_type": "markdown",
      "source": [
        "### Q8. L is a list defined as \n",
        "`L={\"One\",\"Two\",\"Three\",\"Four\",\"Five\"}`\n",
        "\n",
        " WAP to count the length of reach element from a list and write to the file in the given below format:\n",
        "```\n",
        "One, 3\n",
        "Two, 3\n",
        "Four, 4\n",
        "```"
      ],
      "metadata": {
        "id": "mE8e4Bb2Rs0H"
      }
    },
    {
      "cell_type": "code",
      "source": [
        "L={\"One\",\"Two\",\"Three\",\"Four\",\"Five\"}\n",
        "Writefp=open('question8.txt','w')\n",
        "for i in L:\n",
        "    Writefp.write(i +\", \"+ str(len(i)) + \"\\n\")\n",
        "Writefp.close()\n",
        "print(\"writing is done !\")"
      ],
      "metadata": {
        "colab": {
          "base_uri": "https://localhost:8080/"
        },
        "id": "VW8_NOsJSOSA",
        "outputId": "234b91b8-13b4-4955-930a-029971c8b7c6"
      },
      "execution_count": null,
      "outputs": [
        {
          "output_type": "stream",
          "name": "stdout",
          "text": [
            "writing is done !\n"
          ]
        }
      ]
    },
    {
      "cell_type": "markdown",
      "source": [
        "### Q9. Write to the file 100 random strings whose length between 10 and 15."
      ],
      "metadata": {
        "id": "22nRQo9iTsY0"
      }
    },
    {
      "cell_type": "code",
      "source": [
        "import random as r\n",
        "import string as s\n",
        "\n",
        "letter = s.ascii_letters\n",
        "Writefp=open('question9.txt','w')\n",
        "for i in range(0, 100):\n",
        "    Writefp.write(\"\".join(r.sample(letter, r.randint(10,15))) + \"\\n\") \n",
        "Writefp.close()\n",
        "print(\"writing is done !\")"
      ],
      "metadata": {
        "colab": {
          "base_uri": "https://localhost:8080/"
        },
        "id": "lCp3RZDATy3f",
        "outputId": "7fb4f992-d448-486d-e6cc-584b0a842e5d"
      },
      "execution_count": null,
      "outputs": [
        {
          "output_type": "stream",
          "name": "stdout",
          "text": [
            "writing is done !\n"
          ]
        }
      ]
    },
    {
      "cell_type": "markdown",
      "source": [
        "### Q10. Write to the file all prime numbers between 600 and 800"
      ],
      "metadata": {
        "id": "VEFj8C0NUmtC"
      }
    },
    {
      "cell_type": "code",
      "source": [
        "def IsPrime(n):\n",
        "    if(n<=1): return False\n",
        "    if(n==2 or n==3 ): return True\n",
        "    if(n%2 == 0): return False\n",
        "    if(n%3 == 0): return False\n",
        "    for i in range(4, n//2 + 1):\n",
        "         if(n%i==0): return False\n",
        "    return True  \n",
        "\n",
        "Writefp=open('question10.txt','w')\n",
        "for i in range(600, 801):\n",
        "    if(IsPrime(i)):\n",
        "        Writefp.write(str(i) + \"\\n\")\n",
        "Writefp.close()\n",
        "print(\"writing is done !\")"
      ],
      "metadata": {
        "colab": {
          "base_uri": "https://localhost:8080/"
        },
        "id": "m-zXc13LUrkZ",
        "outputId": "ff94a04f-9503-4217-e433-5d7c08d07a1c"
      },
      "execution_count": null,
      "outputs": [
        {
          "output_type": "stream",
          "name": "stdout",
          "text": [
            "writing is done !\n"
          ]
        }
      ]
    },
    {
      "cell_type": "markdown",
      "source": [
        "### Q11. WAP to calculate the time taken by a program"
      ],
      "metadata": {
        "id": "bT189-emVanp"
      }
    },
    {
      "cell_type": "code",
      "source": [
        "import time\n",
        "\n",
        "start = time.time()\n",
        "\n",
        "print(23*2.3)\n",
        "\n",
        "end = time.time()\n",
        "print(\"Time Taken by program : \", end - start)"
      ],
      "metadata": {
        "colab": {
          "base_uri": "https://localhost:8080/"
        },
        "id": "H-oGlXdvVhQT",
        "outputId": "c63b267f-1d83-4ec9-9c7b-6328cbb8626d"
      },
      "execution_count": null,
      "outputs": [
        {
          "output_type": "stream",
          "name": "stdout",
          "text": [
            "52.9\n",
            "0.001771688461303711\n"
          ]
        }
      ]
    },
    {
      "cell_type": "markdown",
      "source": [
        "### Q12. WAP to sort following number of elements in a list, calculate time taken and plot the graph"
      ],
      "metadata": {
        "id": "upS1xvZFWH3D"
      }
    },
    {
      "cell_type": "code",
      "source": [
        "import random as r\n",
        "import time\n",
        "import matplotlib.pyplot as plt\n",
        "import numpy as np\n",
        "\n",
        "data = {5000: 0, 10000: 0, 15000:0, 20000:0, 25000:0}\n",
        "\n",
        "for i in data:\n",
        "    l1 = []\n",
        "    for j in range(0,i+1):\n",
        "        l1.append(r.randint(1,i))\n",
        "    start = time.time()\n",
        "    l1.sort()\n",
        "    end = time.time() \n",
        "    data[i] = end - start\n",
        "\n",
        "\n",
        "plt.plot(np.array(list(data.keys())), np.array(list(data.values())))\n",
        "plt.xlabel(\"Number of elements in list\")  # add X-axis label\n",
        "plt.ylabel(\"Time taken\")  # add Y-axis label\n",
        "plt.title(\" calculate time taken to sort list\")  # add title\n",
        "plt.show() \n",
        "\n"
      ],
      "metadata": {
        "colab": {
          "base_uri": "https://localhost:8080/",
          "height": 472
        },
        "id": "gYPnjDr_WmTT",
        "outputId": "fe2df062-02b6-4e28-e9a5-7ec60a70b10a"
      },
      "execution_count": null,
      "outputs": [
        {
          "output_type": "display_data",
          "data": {
            "text/plain": [
              "<Figure size 640x480 with 1 Axes>"
            ],
            "image/png": "[encoded data removed]"
          },
          "metadata": {}
        }
      ]
    },
    {
      "cell_type": "markdown",
      "source": [
        "### Q13. WAP to create a dictionary of student marks in five subjects and you have to find the student having maximum and minimum average marks."
      ],
      "metadata": {
        "id": "1cThpuVsb4oR"
      }
    },
    {
      "cell_type": "code",
      "source": [
        "import sys\n",
        "\n",
        "students_data = {\n",
        "  \"Meena\" : [55,88,77,66,44],\n",
        "  \"Sumedh\":[56,78,55,88,70],\n",
        "  \"Sushil\": [44,65,76,33,77]\n",
        "}\n",
        "\n",
        "\n",
        "# find max min average of student marks\n",
        "avg = { \"minAvg\":[sys.maxsize,\"\"], \"maxAvg\":[0,\"\"] }\n",
        "print(\"Name\\t\\t Score\\t\\t\\t Average score\")\n",
        "\n",
        "for name in students_data:\n",
        "  avg_scores = sum(students_data[name])/len(students_data[name])\n",
        "  print(name, \"\\t\\t\", students_data[name], \"\\t\", avg_scores)\n",
        "  if(avg_scores < avg[\"minAvg\"][0]):\n",
        "    avg[\"minAvg\"][0] = avg_scores\n",
        "    avg[\"minAvg\"][1] = name\n",
        "  \n",
        "  if(avg_scores > avg[\"maxAvg\"][0]):\n",
        "    avg[\"maxAvg\"][0] = avg_scores\n",
        "    avg[\"maxAvg\"][1] = name\n",
        "\n",
        "print()    \n",
        "print(\"Max average score is \", avg[\"maxAvg\"][0], \" of student \", avg[\"maxAvg\"][1])    \n",
        "print(\"Min average score is \", avg[\"minAvg\"][0], \" of student \", avg[\"minAvg\"][1])    "
      ],
      "metadata": {
        "colab": {
          "base_uri": "https://localhost:8080/"
        },
        "id": "kJYwuVPGb_Bl",
        "outputId": "3e4b5372-4e88-493d-b43d-def81441048f"
      },
      "execution_count": null,
      "outputs": [
        {
          "output_type": "stream",
          "name": "stdout",
          "text": [
            "Name\t\t Score\t\t\t Average score\n",
            "Meena \t\t [55, 88, 77, 66, 44] \t 66.0\n",
            "Sumedh \t\t [56, 78, 55, 88, 70] \t 69.4\n",
            "Sushil \t\t [44, 65, 76, 33, 77] \t 59.0\n",
            "\n",
            "Max average score is  69.4  of student  Sumedh\n",
            "Min average score is  59.0  of student  Sushil\n"
          ]
        }
      ]
    }
  ]
}