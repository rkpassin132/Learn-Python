{
  "nbformat": 4,
  "nbformat_minor": 0,
  "metadata": {
    "colab": {
      "provenance": [],
      "authorship_tag": "ABX9TyPDxQQVJ1STGb3I4f9nlfdH",
      "include_colab_link": true
    },
    "kernelspec": {
      "name": "python3",
      "display_name": "Python 3"
    },
    "language_info": {
      "name": "python"
    }
  },
  "cells": [
    {
      "cell_type": "markdown",
      "metadata": {
        "id": "view-in-github",
        "colab_type": "text"
      },
      "source": [
        "<a href=\"https://colab.research.google.com/github/rkpassin132/Learn-Python/blob/main/Assignment_03_Advance_Python.ipynb\" target=\"_parent\"><img src=\"https://colab.research.google.com/assets/colab-badge.svg\" alt=\"Open In Colab\"/></a>"
      ]
    },
    {
      "cell_type": "markdown",
      "source": [
        "# Part I: Process Automation"
      ],
      "metadata": {
        "id": "ntqvHmXtWjn4"
      }
    },
    {
      "cell_type": "markdown",
      "source": [
        "#### Q1. Create a file that contains 1000 lines of random strings"
      ],
      "metadata": {
        "id": "uKmpN76lWxE8"
      }
    },
    {
      "cell_type": "code",
      "source": [
        "import random as r\n",
        "import string\n",
        "\n",
        "letters = string.ascii_letters\n",
        "fp = open(\"question1.txt\", \"w\")\n",
        "for i in range(0,1000):\n",
        "  fp.write(''.join(r.sample(letters, 10))+\"\\n\")\n",
        "fp.close()\n",
        "print(\"file created !\")  \n"
      ],
      "metadata": {
        "colab": {
          "base_uri": "https://localhost:8080/"
        },
        "id": "TKzrVw9sW16c",
        "outputId": "e6d217e5-9a10-496f-d83a-6a74f8cd5808"
      },
      "execution_count": null,
      "outputs": [
        {
          "output_type": "stream",
          "name": "stdout",
          "text": [
            "file writing is done !\n"
          ]
        }
      ]
    },
    {
      "cell_type": "markdown",
      "source": [
        "#### Q2. Create a file that contains multiple lines of random strings and file size must be 5 MB"
      ],
      "metadata": {
        "id": "BKsfDvCsW87h"
      }
    },
    {
      "cell_type": "code",
      "source": [
        "oneMB = 1024 * 1024\n",
        "def createFile(file, sizeLimit=11):\n",
        "  fp = open(file, \"w\")\n",
        "  for i in range(0, int(sizeLimit/11)):\n",
        "    fp.write(''.join(r.sample(letters, 10))+\"\\n\")\n",
        "  fp.close()\n",
        "\n",
        "createFile(\"question2.txt\", oneMB * 5)  \n",
        "print(\"file created !\")"
      ],
      "metadata": {
        "colab": {
          "base_uri": "https://localhost:8080/"
        },
        "id": "F_pFqxZpXDQv",
        "outputId": "da254609-2fb0-497c-9f23-1d5b9408aa94"
      },
      "execution_count": null,
      "outputs": [
        {
          "output_type": "stream",
          "name": "stdout",
          "text": [
            "file created !\n"
          ]
        }
      ]
    },
    {
      "cell_type": "markdown",
      "source": [
        "#### Q3. Create 10 files that contains multiple lines of random strings and file size of each file must be 5 MB."
      ],
      "metadata": {
        "id": "5mOtKi_iXEQl"
      }
    },
    {
      "cell_type": "code",
      "source": [
        "import os\n",
        "\n",
        "def makeDir(dir):\n",
        "  try:\n",
        "    os.mkdir(dir)\n",
        "  except:\n",
        "    pass\n",
        "\n",
        "makeDir(\"question3\")\n",
        "for i in range(1,11):\n",
        "  createFile(f\"question3/file{i}.txt\", oneMB * 5)\n",
        "print(\"10 files created !\")  "
      ],
      "metadata": {
        "colab": {
          "base_uri": "https://localhost:8080/"
        },
        "id": "iBZGFnrdXLDN",
        "outputId": "e8d60fb1-31bf-4340-a2e8-d3f206351120"
      },
      "execution_count": null,
      "outputs": [
        {
          "output_type": "stream",
          "name": "stdout",
          "text": [
            "10 files created !\n"
          ]
        }
      ]
    },
    {
      "cell_type": "markdown",
      "source": [
        "#### Q4. Create 5 files of size 1GB, 2GB, 3GB, 4GB and 5GB; file contains multiple lines of random strings."
      ],
      "metadata": {
        "id": "Nzlb-8dzXLNO"
      }
    },
    {
      "cell_type": "code",
      "source": [
        "makeDir(\"question4\")\n",
        "createFile(\"question4/1gb.txt\", oneMB * 1024 * 1)\n",
        "createFile(\"question4/2gb.txt\", oneMB * 1024 * 2)\n",
        "createFile(\"question4/3gb.txt\", oneMB * 1024 * 3)\n",
        "createFile(\"question4/4gb.txt\", oneMB * 1024 * 4)\n",
        "createFile(\"question4/5gb.txt\", oneMB * 1024 * 5)\n",
        "print(\"Files created !\")"
      ],
      "metadata": {
        "id": "iF3Tn3ZuXPkz"
      },
      "execution_count": null,
      "outputs": []
    },
    {
      "cell_type": "markdown",
      "source": [
        "#### Q5. Convert all the files of Q4 into upper case one by one."
      ],
      "metadata": {
        "id": "rKJ6lQegXPx2"
      }
    },
    {
      "cell_type": "code",
      "source": [
        "def fileToUpper(file):\n",
        "  with open(file, 'r') as inp:\n",
        "      y = inp.read().upper()\n",
        "  with open(file, 'w') as out:\n",
        "      out.write(y)\n",
        "\n",
        "fileToUpper(\"question4/1gb.txt\")\n",
        "fileToUpper(\"question4/2gb.txt\")\n",
        "fileToUpper(\"question4/3gb.txt\")\n",
        "fileToUpper(\"question4/4gb.txt\")\n",
        "fileToUpper(\"question4/5gb.txt\")\n",
        "print(\"File is updated !\")"
      ],
      "metadata": {
        "colab": {
          "base_uri": "https://localhost:8080/"
        },
        "id": "j5PkZ3OUXVto",
        "outputId": "ed934ae2-278e-45e4-8670-93b3d3c0e79e"
      },
      "execution_count": null,
      "outputs": [
        {
          "output_type": "stream",
          "name": "stdout",
          "text": [
            "File is updated !\n"
          ]
        }
      ]
    },
    {
      "cell_type": "markdown",
      "source": [
        "#### Q6. Convert all the files of Q4 into upper case parallel using **multi-threading**"
      ],
      "metadata": {
        "id": "_jr45MuWXV7n"
      }
    },
    {
      "cell_type": "code",
      "source": [
        "import threading\n",
        "\n",
        "# create thread\n",
        "t1 = threading.Thread(fileToUpper(\"question4/1gb.txt\"), name=\"1gb\")\n",
        "t2 = threading.Thread(fileToUpper(\"question4/2gb.txt\"), name=\"2gb\")\n",
        "t3 = threading.Thread(fileToUpper(\"question4/3gb.txt\"), name=\"3gb\")\n",
        "t4 = threading.Thread(fileToUpper(\"question4/4gb.txt\"), name=\"4gb\")\n",
        "t5 = threading.Thread(fileToUpper(\"question4/5gb.txt\"), name=\"5gb\")\n",
        "\n",
        "# starting threads\n",
        "t1.start()\n",
        "t2.start()\n",
        "t3.start()\n",
        "t4.start()\n",
        "t5.start()\n",
        "\n",
        "# wait until all threads finish\n",
        "t1.join()\n",
        "t2.join()\n",
        "t3.join()\n",
        "t4.join()\n",
        "t5.join()\n",
        "\n",
        "print(\"File is updated !\")"
      ],
      "metadata": {
        "id": "iiiRelG6Xm-n"
      },
      "execution_count": null,
      "outputs": []
    },
    {
      "cell_type": "markdown",
      "source": [
        "#### Q7. WAP to automatically download 10 images of cat from “Google Images”. [*Hint: Find the package from pypi.org and use it*]"
      ],
      "metadata": {
        "id": "qRrgqjBeXnG3"
      }
    },
    {
      "cell_type": "code",
      "source": [
        "!pip install urllib2 simplejson cStringIO"
      ],
      "metadata": {
        "colab": {
          "base_uri": "https://localhost:8080/"
        },
        "id": "0175T9AGwshj",
        "outputId": "843e08d5-ee4c-4376-fe29-8046f18f3a19"
      },
      "execution_count": 2,
      "outputs": [
        {
          "output_type": "stream",
          "name": "stdout",
          "text": [
            "Looking in indexes: https://pypi.org/simple, https://us-python.pkg.dev/colab-wheels/public/simple/\n",
            "\u001b[31mERROR: Could not find a version that satisfies the requirement urllib2 (from versions: none)\u001b[0m\u001b[31m\n",
            "\u001b[0m\u001b[31mERROR: No matching distribution found for urllib2\u001b[0m\u001b[31m\n",
            "\u001b[0m"
          ]
        }
      ]
    },
    {
      "cell_type": "code",
      "source": [
        "import urllib2\n",
        "import simplejson\n",
        "import cStringIO\n",
        "\n",
        "fetcher = urllib2.build_opener()\n",
        "searchTerm = 'parrot'\n",
        "startIndex = 0\n",
        "searchUrl = \"http://ajax.googleapis.com/ajax/services/search/images?v=1.0&q=\" + searchTerm + \"&start=\" + startIndex\n",
        "f = fetcher.open(searchUrl)\n",
        "deserialized_output = simplejson.load(f)\n",
        "print(deserialized_output)"
      ],
      "metadata": {
        "id": "Ydn_sqo1X8yU"
      },
      "execution_count": 36,
      "outputs": []
    },
    {
      "cell_type": "markdown",
      "source": [
        "#### Q8. WAP to automatically download 10 videos of “Machine Learning” from “Youtube.com”. [*Hint: Find the package from pypi.org and use it*]\n"
      ],
      "metadata": {
        "id": "3-sPurGjX87I"
      }
    },
    {
      "cell_type": "code",
      "source": [
        "!pip install pytube"
      ],
      "metadata": {
        "colab": {
          "base_uri": "https://localhost:8080/"
        },
        "id": "6tT0UBEuw8zm",
        "outputId": "f7e21af9-9a50-494d-e640-bbaf90dadc3b"
      },
      "execution_count": 3,
      "outputs": [
        {
          "output_type": "stream",
          "name": "stdout",
          "text": [
            "Looking in indexes: https://pypi.org/simple, https://us-python.pkg.dev/colab-wheels/public/simple/\n",
            "Collecting pytube\n",
            "  Downloading pytube-15.0.0-py3-none-any.whl (57 kB)\n",
            "\u001b[2K     \u001b[90m━━━━━━━━━━━━━━━━━━━━━━━━━━━━━━━━━━━━━━━━\u001b[0m \u001b[32m57.6/57.6 kB\u001b[0m \u001b[31m7.6 MB/s\u001b[0m eta \u001b[36m0:00:00\u001b[0m\n",
            "\u001b[?25hInstalling collected packages: pytube\n",
            "Successfully installed pytube-15.0.0\n"
          ]
        }
      ]
    },
    {
      "cell_type": "code",
      "source": [
        "from pytube import YouTube\n",
        "import os\n",
        "\n",
        "\n",
        "def DownloadComplete(stream, path):\n",
        "  if os.path.isdir(\"question8\") == False : os.mkdir(\"question8\") \n",
        "  newpath = f\"/content/question8/{path.replace('/content/', '')}\"\n",
        "  os.rename(path, newpath)\n",
        "  print(f\"Downloaded path: '{newpath}' \\n\")\n",
        "\n",
        "\n",
        "def DownloadProgress(stream, chunk, data):\n",
        "  print(f\"Remain downloading... {int(data/(1024*1024))} Mb\")\n",
        "\n",
        "def downloadYouTubeVideo(link):\n",
        "  try:\n",
        "    # object creation using YouTube\n",
        "    yt = YouTube(link, on_progress_callback=DownloadProgress, on_complete_callback=DownloadComplete  )\n",
        "    print(f\"Downloading... '{link}'video\")\n",
        "    yt.streams.filter(progressive=True, file_extension='mp4').order_by('resolution').desc().first().download()\n",
        "  except Exception as error:\n",
        "    print(\"Downloading error..\", error)\n"
      ],
      "metadata": {
        "id": "jsnqDhRjYLhV"
      },
      "execution_count": 50,
      "outputs": []
    },
    {
      "cell_type": "code",
      "source": [
        "#link of the video to be downloaded\n",
        "links=[\"https://www.youtube.com/watch?v=orbkg5JH9C8\", \"https://www.youtube.com/watch?v=8sLS2knUa6Y\"]  \n",
        "for link in links: \n",
        "  downloadYouTubeVideo(link)  \n",
        "print('Task Completed!')"
      ],
      "metadata": {
        "colab": {
          "base_uri": "https://localhost:8080/"
        },
        "id": "k4a9yl3TyZ7w",
        "outputId": "a07a1840-b2c0-4f10-de2c-5e492f6da1dd"
      },
      "execution_count": 51,
      "outputs": [
        {
          "output_type": "stream",
          "name": "stdout",
          "text": [
            "Downloading... 'https://www.youtube.com/watch?v=orbkg5JH9C8'video\n",
            "Remain downloading... 0 Mb\n",
            "Downloaded path: '/content/question8/Kandima Signature Video - 20 seconds.mp4' \n",
            "\n",
            "Downloading... 'https://www.youtube.com/watch?v=8sLS2knUa6Y'video\n",
            "Remain downloading... 15 Mb\n",
            "Remain downloading... 6 Mb\n",
            "Remain downloading... 0 Mb\n",
            "Downloaded path: '/content/question8/Phir Aur Kya Chahiye.mp4' \n",
            "\n",
            "Task Completed!\n"
          ]
        }
      ]
    },
    {
      "cell_type": "markdown",
      "source": [
        "#### Q9. Convert all the videos of Q8 and convert it to audio. [*Hint: Find the package from pypi.org and use it*]"
      ],
      "metadata": {
        "id": "WOoUUknjYLvH"
      }
    },
    {
      "cell_type": "code",
      "source": [
        "!pip install moviepy"
      ],
      "metadata": {
        "colab": {
          "base_uri": "https://localhost:8080/"
        },
        "id": "1xVGgRwlEBQZ",
        "outputId": "1cecd8e1-1b0e-44e0-c2c0-c78132acefcb"
      },
      "execution_count": 37,
      "outputs": [
        {
          "output_type": "stream",
          "name": "stdout",
          "text": [
            "Looking in indexes: https://pypi.org/simple, https://us-python.pkg.dev/colab-wheels/public/simple/\n",
            "Requirement already satisfied: moviepy in /usr/local/lib/python3.10/dist-packages (1.0.3)\n",
            "Requirement already satisfied: decorator<5.0,>=4.0.2 in /usr/local/lib/python3.10/dist-packages (from moviepy) (4.4.2)\n",
            "Requirement already satisfied: tqdm<5.0,>=4.11.2 in /usr/local/lib/python3.10/dist-packages (from moviepy) (4.65.0)\n",
            "Requirement already satisfied: requests<3.0,>=2.8.1 in /usr/local/lib/python3.10/dist-packages (from moviepy) (2.27.1)\n",
            "Requirement already satisfied: proglog<=1.0.0 in /usr/local/lib/python3.10/dist-packages (from moviepy) (0.1.10)\n",
            "Requirement already satisfied: numpy>=1.17.3 in /usr/local/lib/python3.10/dist-packages (from moviepy) (1.22.4)\n",
            "Requirement already satisfied: imageio<3.0,>=2.5 in /usr/local/lib/python3.10/dist-packages (from moviepy) (2.25.1)\n",
            "Requirement already satisfied: imageio-ffmpeg>=0.2.0 in /usr/local/lib/python3.10/dist-packages (from moviepy) (0.4.8)\n",
            "Requirement already satisfied: pillow>=8.3.2 in /usr/local/lib/python3.10/dist-packages (from imageio<3.0,>=2.5->moviepy) (8.4.0)\n",
            "Requirement already satisfied: urllib3<1.27,>=1.21.1 in /usr/local/lib/python3.10/dist-packages (from requests<3.0,>=2.8.1->moviepy) (1.26.15)\n",
            "Requirement already satisfied: certifi>=2017.4.17 in /usr/local/lib/python3.10/dist-packages (from requests<3.0,>=2.8.1->moviepy) (2022.12.7)\n",
            "Requirement already satisfied: charset-normalizer~=2.0.0 in /usr/local/lib/python3.10/dist-packages (from requests<3.0,>=2.8.1->moviepy) (2.0.12)\n",
            "Requirement already satisfied: idna<4,>=2.5 in /usr/local/lib/python3.10/dist-packages (from requests<3.0,>=2.8.1->moviepy) (3.4)\n"
          ]
        }
      ]
    },
    {
      "cell_type": "code",
      "source": [
        "import moviepy.editor as mp\n",
        "\n",
        "def VideoToAudio(video, audio):\n",
        "  try:\n",
        "    print(f\"Converting '{video}'\")\n",
        "    # Insert Local Video File Path\n",
        "    clip = mp.VideoFileClip(video)\n",
        "    \n",
        "    # Insert Local Audio File Path\n",
        "    clip.audio.write_audiofile(audio)\n",
        "    print(\"Coversion done !\\n\")\n",
        "  except Exception as error:\n",
        "    print(\"Error : \", error)"
      ],
      "metadata": {
        "id": "IiHm-jwCGDg7"
      },
      "execution_count": 42,
      "outputs": []
    },
    {
      "cell_type": "code",
      "source": [
        "videos = os.listdir('question8')\n",
        "if os.path.isdir(\"question8/audio\") == False : os.mkdir(\"question8/audio\") \n",
        "for video in videos:\n",
        "  VideoToAudio(f\"question8/{video}\", f\"question8/audio/{video.replace('.mp4','')}.mp3\")\n"
      ],
      "metadata": {
        "id": "ZjR2koSWYWwX",
        "colab": {
          "base_uri": "https://localhost:8080/"
        },
        "outputId": "228e8535-3f38-4efd-9ce2-8deda414aee5"
      },
      "execution_count": 43,
      "outputs": [
        {
          "output_type": "stream",
          "name": "stdout",
          "text": [
            "Converting 'question8/Kandima Signature Video - 20 seconds.mp4'\n",
            "MoviePy - Writing audio in question8/audio/Kandima Signature Video - 20 seconds.mp3\n"
          ]
        },
        {
          "output_type": "stream",
          "name": "stderr",
          "text": []
        },
        {
          "output_type": "stream",
          "name": "stdout",
          "text": [
            "MoviePy - Done.\n",
            "Coversion done !\n",
            "\n",
            "Converting 'question8/audio'\n",
            "Error :  MoviePy error: failed to read the duration of file question8/audio.\n",
            "Here are the file infos returned by ffmpeg:\n",
            "\n",
            "ffmpeg version 4.2.2-static https://johnvansickle.com/ffmpeg/  Copyright (c) 2000-2019 the FFmpeg developers\n",
            "  built with gcc 8 (Debian 8.3.0-6)\n",
            "  configuration: --enable-gpl --enable-version3 --enable-static --disable-debug --disable-ffplay --disable-indev=sndio --disable-outdev=sndio --cc=gcc --enable-fontconfig --enable-frei0r --enable-gnutls --enable-gmp --enable-libgme --enable-gray --enable-libaom --enable-libfribidi --enable-libass --enable-libvmaf --enable-libfreetype --enable-libmp3lame --enable-libopencore-amrnb --enable-libopencore-amrwb --enable-libopenjpeg --enable-librubberband --enable-libsoxr --enable-libspeex --enable-libsrt --enable-libvorbis --enable-libopus --enable-libtheora --enable-libvidstab --enable-libvo-amrwbenc --enable-libvpx --enable-libwebp --enable-libx264 --enable-libx265 --enable-libxml2 --enable-libdav1d --enable-libxvid --enable-libzvbi --enable-libzimg\n",
            "  libavutil      56. 31.100 / 56. 31.100\n",
            "  libavcodec     58. 54.100 / 58. 54.100\n",
            "  libavformat    58. 29.100 / 58. 29.100\n",
            "  libavdevice    58.  8.100 / 58.  8.100\n",
            "  libavfilter     7. 57.100 /  7. 57.100\n",
            "  libswscale      5.  5.100 /  5.  5.100\n",
            "  libswresample   3.  5.100 /  3.  5.100\n",
            "  libpostproc    55.  5.100 / 55.  5.100\n",
            "question8/audio: Is a directory\n",
            "\n",
            "Converting 'question8/Phir Aur Kya Chahiye.mp4'\n",
            "MoviePy - Writing audio in question8/audio/Phir Aur Kya Chahiye.mp3\n"
          ]
        },
        {
          "output_type": "stream",
          "name": "stderr",
          "text": [
            "                                                                     "
          ]
        },
        {
          "output_type": "stream",
          "name": "stdout",
          "text": [
            "MoviePy - Done.\n",
            "Coversion done !\n",
            "\n"
          ]
        },
        {
          "output_type": "stream",
          "name": "stderr",
          "text": [
            "\r"
          ]
        }
      ]
    },
    {
      "cell_type": "markdown",
      "source": [
        "#### Q10. Create an automated pipeline using multi-threading for:\n",
        "```“Automatic Download of 100 Videos from YouTube” → “Convert it to Audio”```\n"
      ],
      "metadata": {
        "id": "-BFNgCTOYW3r"
      }
    },
    {
      "cell_type": "code",
      "source": [
        "# Overriding about DownloadComplete function to add VideoToAudio function\n",
        "def DownloadComplete(stream, path):\n",
        "  if os.path.isdir(\"question10\") == False : os.mkdir(\"question10\") \n",
        "  fileName = path.replace('/content/', '')\n",
        "  newpath = f\"/content/question10/{fileName}\"\n",
        "  os.rename(path, newpath)\n",
        "  print(f\"Downloaded path: '{newpath}' \\n\")\n",
        "  # convert video to audio\n",
        "  if os.path.isdir(\"question10/audio\") == False : os.mkdir(\"question10/audio\")  \n",
        "  VideoToAudio(newpath, f\"/content/question10/audio/{fileName.replace('mp4', '')}.mp3\")\n",
        "\n",
        "\n",
        "import concurrent.futures\n",
        "links =[\"https://www.youtube.com/watch?v=orbkg5JH9C8\", \"https://www.youtube.com/watch?v=8sLS2knUa6Y\"]  \n",
        "\n",
        "# create a thread pool with 2 threads\n",
        "pool = concurrent.futures.ThreadPoolExecutor(max_workers=2)\n",
        "for link in links:\n",
        "   pool.submit(downloadYouTubeVideo, link)\n",
        "\n",
        "# wait for all tasks to complete\n",
        "pool.shutdown(wait=True)\n",
        "print(\"\\nDone : “Automatic Download of 100 Videos from YouTube” → “Convert it to Audio”\")"
      ],
      "metadata": {
        "id": "_pf1U4O_Yk4C",
        "colab": {
          "base_uri": "https://localhost:8080/"
        },
        "outputId": "447d4e88-a076-4888-93cf-384fddde487a"
      },
      "execution_count": 54,
      "outputs": [
        {
          "output_type": "stream",
          "name": "stdout",
          "text": [
            "Downloading... 'https://www.youtube.com/watch?v=orbkg5JH9C8'videoDownloading... 'https://www.youtube.com/watch?v=8sLS2knUa6Y'video\n",
            "\n",
            "Remain downloading... 0 Mb\n",
            "Downloaded path: '/content/question10/Kandima Signature Video - 20 seconds.mp4' \n",
            "\n",
            "Converting '/content/question10/Kandima Signature Video - 20 seconds.mp4'\n",
            "Remain downloading... 15 Mb\n",
            "MoviePy - Writing audio in /content/question10/audio/Kandima Signature Video - 20 seconds..mp3\n",
            "Remain downloading... 6 Mb"
          ]
        },
        {
          "output_type": "stream",
          "name": "stderr",
          "text": [
            "\rchunk:   0%|          | 0/442 [00:00<?, ?it/s, now=None]"
          ]
        },
        {
          "output_type": "stream",
          "name": "stdout",
          "text": [
            "\n",
            "Remain downloading... 0 Mb\n",
            "Downloaded path: '/content/question10/Phir Aur Kya Chahiye.mp4' \n",
            "\n",
            "Converting '/content/question10/Phir Aur Kya Chahiye.mp4'\n"
          ]
        },
        {
          "output_type": "stream",
          "name": "stderr",
          "text": [
            "chunk:  22%|██▏       | 97/442 [00:00<00:00, 533.36it/s, now=None]"
          ]
        },
        {
          "output_type": "stream",
          "name": "stdout",
          "text": [
            "MoviePy - Writing audio in /content/question10/audio/Phir Aur Kya Chahiye..mp3\n"
          ]
        },
        {
          "output_type": "stream",
          "name": "stderr",
          "text": [
            "\n",
            "chunk:  25%|██▌       | 111/442 [00:00<00:00, 464.18it/s, now=None]\n",
            "chunk:  36%|███▌      | 158/442 [00:00<00:00, 461.08it/s, now=None]\n",
            "chunk:  46%|████▋     | 205/442 [00:00<00:00, 420.48it/s, now=None]\n",
            "chunk:  56%|█████▌    | 248/442 [00:00<00:00, 401.73it/s, now=None]\n",
            "chunk:  66%|██████▌   | 291/442 [00:00<00:00, 401.51it/s, now=None]\n",
            "chunk:  85%|████████▌ | 377/442 [00:00<00:00, 395.36it/s, now=None]\n",
            "chunk:  94%|█████████▍| 417/442 [00:01<00:00, 365.82it/s, now=None]\n",
            "                                                                   \n",
            "\u001b[A\n",
            "chunk:   7%|▋         | 350/4747 [00:00<00:15, 289.88it/s, now=None]\u001b[A\n",
            "chunk:   8%|▊         | 374/4747 [00:01<00:15, 274.27it/s, now=None]\u001b[A"
          ]
        },
        {
          "output_type": "stream",
          "name": "stdout",
          "text": [
            "MoviePy - Done.\n",
            "Coversion done !\n",
            "\n"
          ]
        },
        {
          "output_type": "stream",
          "name": "stderr",
          "text": [
            "\n",
            "chunk:   9%|▊         | 404/4747 [00:01<00:16, 261.20it/s, now=None]\u001b[A\n",
            "chunk:  10%|▉         | 453/4747 [00:01<00:13, 308.36it/s, now=None]\u001b[A\n",
            "chunk:  11%|█         | 519/4747 [00:01<00:10, 395.87it/s, now=None]\u001b[A\n",
            "chunk:  13%|█▎        | 596/4747 [00:01<00:08, 493.92it/s, now=None]\u001b[A\n",
            "chunk:  14%|█▍        | 669/4747 [00:01<00:07, 555.95it/s, now=None]\u001b[A\n",
            "chunk:  16%|█▌        | 743/4747 [00:01<00:06, 603.92it/s, now=None]\u001b[A\n",
            "chunk:  17%|█▋        | 820/4747 [00:01<00:06, 642.01it/s, now=None]\u001b[A\n",
            "chunk:  19%|█▉        | 898/4747 [00:01<00:05, 678.51it/s, now=None]\u001b[A\n",
            "chunk:  20%|██        | 968/4747 [00:02<00:05, 666.37it/s, now=None]\u001b[A\n",
            "chunk:  22%|██▏       | 1036/4747 [00:02<00:05, 666.73it/s, now=None]\u001b[A\n",
            "chunk:  23%|██▎       | 1104/4747 [00:02<00:05, 666.29it/s, now=None]\u001b[A\n",
            "chunk:  25%|██▍       | 1173/4747 [00:02<00:05, 657.22it/s, now=None]\u001b[A\n",
            "chunk:  26%|██▌       | 1240/4747 [00:02<00:05, 659.58it/s, now=None]\u001b[A\n",
            "chunk:  28%|██▊       | 1313/4747 [00:02<00:05, 674.17it/s, now=None]\u001b[A\n",
            "chunk:  29%|██▉       | 1386/4747 [00:02<00:04, 684.52it/s, now=None]\u001b[A\n",
            "chunk:  31%|███       | 1460/4747 [00:02<00:04, 694.36it/s, now=None]\u001b[A\n",
            "chunk:  32%|███▏      | 1530/4747 [00:02<00:04, 664.20it/s, now=None]\u001b[A\n",
            "chunk:  34%|███▍      | 1603/4747 [00:02<00:04, 676.37it/s, now=None]\u001b[A\n",
            "chunk:  35%|███▌      | 1676/4747 [00:03<00:04, 683.86it/s, now=None]\u001b[A\n",
            "chunk:  37%|███▋      | 1749/4747 [00:03<00:04, 696.97it/s, now=None]\u001b[A\n",
            "chunk:  38%|███▊      | 1820/4747 [00:03<00:04, 691.74it/s, now=None]\u001b[A\n",
            "chunk:  40%|███▉      | 1890/4747 [00:03<00:04, 671.41it/s, now=None]\u001b[A\n",
            "chunk:  41%|████▏     | 1959/4747 [00:03<00:04, 671.19it/s, now=None]\u001b[A\n",
            "chunk:  43%|████▎     | 2032/4747 [00:03<00:03, 687.29it/s, now=None]\u001b[A\n",
            "chunk:  44%|████▍     | 2101/4747 [00:03<00:03, 685.82it/s, now=None]\u001b[A\n",
            "chunk:  46%|████▌     | 2175/4747 [00:03<00:03, 697.36it/s, now=None]\u001b[A\n",
            "chunk:  47%|████▋     | 2253/4747 [00:03<00:03, 720.75it/s, now=None]\u001b[A\n",
            "chunk:  49%|████▉     | 2331/4747 [00:04<00:03, 730.03it/s, now=None]\u001b[A\n",
            "chunk:  51%|█████     | 2406/4747 [00:04<00:03, 734.23it/s, now=None]\u001b[A\n",
            "chunk:  52%|█████▏    | 2488/4747 [00:04<00:03, 751.37it/s, now=None]\u001b[A\n",
            "chunk:  54%|█████▍    | 2564/4747 [00:04<00:02, 728.04it/s, now=None]\u001b[A\n",
            "chunk:  56%|█████▌    | 2637/4747 [00:04<00:02, 724.14it/s, now=None]\u001b[A\n",
            "chunk:  57%|█████▋    | 2710/4747 [00:04<00:02, 725.61it/s, now=None]\u001b[A\n",
            "chunk:  59%|█████▊    | 2783/4747 [00:04<00:02, 726.16it/s, now=None]\u001b[A\n",
            "chunk:  60%|██████    | 2856/4747 [00:04<00:02, 721.53it/s, now=None]\u001b[A\n",
            "chunk:  62%|██████▏   | 2934/4747 [00:04<00:02, 738.73it/s, now=None]\u001b[A\n",
            "chunk:  63%|██████▎   | 3013/4747 [00:04<00:02, 750.76it/s, now=None]\u001b[A\n",
            "chunk:  65%|██████▌   | 3094/4747 [00:05<00:02, 767.85it/s, now=None]\u001b[A\n",
            "chunk:  67%|██████▋   | 3171/4747 [00:05<00:02, 740.89it/s, now=None]\u001b[A\n",
            "chunk:  68%|██████▊   | 3248/4747 [00:05<00:02, 746.05it/s, now=None]\u001b[A\n",
            "chunk:  70%|███████   | 3323/4747 [00:05<00:01, 740.86it/s, now=None]\u001b[A\n",
            "chunk:  72%|███████▏  | 3398/4747 [00:05<00:01, 721.67it/s, now=None]\u001b[A\n",
            "chunk:  73%|███████▎  | 3476/4747 [00:05<00:01, 738.38it/s, now=None]\u001b[A\n",
            "chunk:  75%|███████▍  | 3551/4747 [00:05<00:01, 730.36it/s, now=None]\u001b[A\n",
            "chunk:  76%|███████▋  | 3628/4747 [00:05<00:01, 738.05it/s, now=None]\u001b[A\n",
            "chunk:  78%|███████▊  | 3706/4747 [00:05<00:01, 747.60it/s, now=None]\u001b[A\n",
            "chunk:  80%|███████▉  | 3784/4747 [00:05<00:01, 753.46it/s, now=None]\u001b[A\n",
            "chunk:  81%|████████▏ | 3865/4747 [00:06<00:01, 770.07it/s, now=None]\u001b[A\n",
            "chunk:  83%|████████▎ | 3943/4747 [00:06<00:01, 770.41it/s, now=None]\u001b[A\n",
            "chunk:  85%|████████▍ | 4021/4747 [00:06<00:00, 756.75it/s, now=None]\u001b[A\n",
            "chunk:  86%|████████▋ | 4097/4747 [00:06<00:00, 742.74it/s, now=None]\u001b[A\n",
            "chunk:  88%|████████▊ | 4172/4747 [00:06<00:00, 728.69it/s, now=None]\u001b[A\n",
            "chunk:  90%|████████▉ | 4253/4747 [00:06<00:00, 748.10it/s, now=None]\u001b[A\n",
            "chunk:  91%|█████████ | 4328/4747 [00:06<00:00, 724.26it/s, now=None]\u001b[A\n",
            "chunk:  93%|█████████▎| 4437/4747 [00:06<00:00, 828.08it/s, now=None]\u001b[A\n",
            "chunk:  96%|█████████▌| 4553/4747 [00:06<00:00, 921.48it/s, now=None]\u001b[A\n",
            "chunk:  98%|█████████▊| 4646/4747 [00:07<00:00, 884.10it/s, now=None]\u001b[A\n",
            "chunk: 100%|█████████▉| 4736/4747 [00:07<00:00, 855.61it/s, now=None]\u001b[A\n",
            "                                                                     \u001b[A"
          ]
        },
        {
          "output_type": "stream",
          "name": "stdout",
          "text": [
            "MoviePy - Done.\n",
            "Coversion done !\n",
            "\n",
            "\n",
            "Done : “Automatic Download of 100 Videos from YouTube” → “Convert it to Audio”\n"
          ]
        }
      ]
    },
    {
      "cell_type": "markdown",
      "source": [
        "#### Q11. Create an automated pipeline using multi-threading for: Automatic Download of 500 images of Dog from\n",
        "`GoogleImages” → “Rescale it to 50%”`"
      ],
      "metadata": {
        "id": "WuwXf4PgYk_E"
      }
    },
    {
      "cell_type": "code",
      "source": [
        "# "
      ],
      "metadata": {
        "id": "fR-4KPE8YsnN"
      },
      "execution_count": null,
      "outputs": []
    },
    {
      "cell_type": "markdown",
      "source": [
        "---\n",
        "# Part II: Data Analytics"
      ],
      "metadata": {
        "id": "EhjoWrhOYwn4"
      }
    },
    {
      "cell_type": "markdown",
      "source": [
        "#### Q12. Create a random dataset of 100 rows and 30 columns. All the values are defined between [1,200]. Perform the following operations:\n",
        "\n",
        "```\n",
        "1. Replace all the values with NA in the dataset defined between [10, 60]. Print the count of number rows having missing values.\n",
        "2. Replace all the NA values with the average of the column value.\n",
        "3. Find the Pearson correlation among all the columns and plot heat map. Also select those columns having correlation <=0.7.\n",
        "4. Normalize all the values in the dataset between 0 and 10.\n",
        "5. Replace all the values in the dataset with 1 if value <=0.5 else with 0.\n",
        "\n",
        "```"
      ],
      "metadata": {
        "id": "ycR1dUJYZFds"
      }
    },
    {
      "cell_type": "code",
      "source": [
        "import pandas as pd \n",
        "import numpy as np\n",
        "import random as r\n",
        "import string"
      ],
      "metadata": {
        "id": "_WabhDAEPxF8"
      },
      "execution_count": 64,
      "outputs": []
    },
    {
      "cell_type": "code",
      "source": [
        "df = pd.DataFrame([[r.randint(1, 200) for x in range(30)] for i in range(100)])\n",
        "df"
      ],
      "metadata": {
        "id": "RxcCw-IqZ-nr",
        "colab": {
          "base_uri": "https://localhost:8080/",
          "height": 423
        },
        "outputId": "fb125f98-7be9-488d-eaf4-6e0657360245"
      },
      "execution_count": 78,
      "outputs": [
        {
          "output_type": "execute_result",
          "data": {
            "text/plain": [
              "     0    1    2    3    4    5    6    7    8    9   ...   20   21   22   23  \\\n",
              "0    82  132  147  168   91  100   53  165   18  153  ...  200   64    8  139   \n",
              "1    76   59   97   61   44   68   26   46  148   41  ...  177   60  125   46   \n",
              "2    80  176  190   73   18  119    6  133   82   71  ...   31  196   72  188   \n",
              "3    86    4   76   72   40   66  135   85  139  179  ...  182  134  191  133   \n",
              "4    57   66  161   54  158   35   53   55   91   10  ...   22  141  182   42   \n",
              "..  ...  ...  ...  ...  ...  ...  ...  ...  ...  ...  ...  ...  ...  ...  ...   \n",
              "95  172    2  157    9   60   46   99  124    6  150  ...   30   87   19   29   \n",
              "96   33  116  100  115  200   52   96  170   26   97  ...  179    2   13    3   \n",
              "97    1  192   21  121  164   85   44   19   89  137  ...   38   20  112  180   \n",
              "98  169  135   67  159  152   15  108   20  196  168  ...   23   50   33  160   \n",
              "99   88   34   81   35   78   80  190  109   27   72  ...  170    6    6   48   \n",
              "\n",
              "     24   25   26   27   28   29  \n",
              "0    94   59  172  189    1  191  \n",
              "1   138  182   95  104   37   67  \n",
              "2   167  177    3  187   52  183  \n",
              "3    98   36  123  139   50    3  \n",
              "4     1  192  192  145   50  113  \n",
              "..  ...  ...  ...  ...  ...  ...  \n",
              "95  159  149  151   17   53   52  \n",
              "96   38  139  157  173  108   27  \n",
              "97  149  169   57   36   45  119  \n",
              "98   25  124  119  155  180  177  \n",
              "99  111  167   38   46    6   51  \n",
              "\n",
              "[100 rows x 30 columns]"
            ],
            "text/html": [
              "\n",
              "  <div id=\"df-72af9a52-e32a-42d5-ae95-42759fc4d72b\">\n",
              "    <div class=\"colab-df-container\">\n",
              "      <div>\n",
              "<style scoped>\n",
              "    .dataframe tbody tr th:only-of-type {\n",
              "        vertical-align: middle;\n",
              "    }\n",
              "\n",
              "    .dataframe tbody tr th {\n",
              "        vertical-align: top;\n",
              "    }\n",
              "\n",
              "    .dataframe thead th {\n",
              "        text-align: right;\n",
              "    }\n",
              "</style>\n",
              "<table border=\"1\" class=\"dataframe\">\n",
              "  <thead>\n",
              "    <tr style=\"text-align: right;\">\n",
              "      <th></th>\n",
              "      <th>0</th>\n",
              "      <th>1</th>\n",
              "      <th>2</th>\n",
              "      <th>3</th>\n",
              "      <th>4</th>\n",
              "      <th>5</th>\n",
              "      <th>6</th>\n",
              "      <th>7</th>\n",
              "      <th>8</th>\n",
              "      <th>9</th>\n",
              "      <th>...</th>\n",
              "      <th>20</th>\n",
              "      <th>21</th>\n",
              "      <th>22</th>\n",
              "      <th>23</th>\n",
              "      <th>24</th>\n",
              "      <th>25</th>\n",
              "      <th>26</th>\n",
              "      <th>27</th>\n",
              "      <th>28</th>\n",
              "      <th>29</th>\n",
              "    </tr>\n",
              "  </thead>\n",
              "  <tbody>\n",
              "    <tr>\n",
              "      <th>0</th>\n",
              "      <td>82</td>\n",
              "      <td>132</td>\n",
              "      <td>147</td>\n",
              "      <td>168</td>\n",
              "      <td>91</td>\n",
              "      <td>100</td>\n",
              "      <td>53</td>\n",
              "      <td>165</td>\n",
              "      <td>18</td>\n",
              "      <td>153</td>\n",
              "      <td>...</td>\n",
              "      <td>200</td>\n",
              "      <td>64</td>\n",
              "      <td>8</td>\n",
              "      <td>139</td>\n",
              "      <td>94</td>\n",
              "      <td>59</td>\n",
              "      <td>172</td>\n",
              "      <td>189</td>\n",
              "      <td>1</td>\n",
              "      <td>191</td>\n",
              "    </tr>\n",
              "    <tr>\n",
              "      <th>1</th>\n",
              "      <td>76</td>\n",
              "      <td>59</td>\n",
              "      <td>97</td>\n",
              "      <td>61</td>\n",
              "      <td>44</td>\n",
              "      <td>68</td>\n",
              "      <td>26</td>\n",
              "      <td>46</td>\n",
              "      <td>148</td>\n",
              "      <td>41</td>\n",
              "      <td>...</td>\n",
              "      <td>177</td>\n",
              "      <td>60</td>\n",
              "      <td>125</td>\n",
              "      <td>46</td>\n",
              "      <td>138</td>\n",
              "      <td>182</td>\n",
              "      <td>95</td>\n",
              "      <td>104</td>\n",
              "      <td>37</td>\n",
              "      <td>67</td>\n",
              "    </tr>\n",
              "    <tr>\n",
              "      <th>2</th>\n",
              "      <td>80</td>\n",
              "      <td>176</td>\n",
              "      <td>190</td>\n",
              "      <td>73</td>\n",
              "      <td>18</td>\n",
              "      <td>119</td>\n",
              "      <td>6</td>\n",
              "      <td>133</td>\n",
              "      <td>82</td>\n",
              "      <td>71</td>\n",
              "      <td>...</td>\n",
              "      <td>31</td>\n",
              "      <td>196</td>\n",
              "      <td>72</td>\n",
              "      <td>188</td>\n",
              "      <td>167</td>\n",
              "      <td>177</td>\n",
              "      <td>3</td>\n",
              "      <td>187</td>\n",
              "      <td>52</td>\n",
              "      <td>183</td>\n",
              "    </tr>\n",
              "    <tr>\n",
              "      <th>3</th>\n",
              "      <td>86</td>\n",
              "      <td>4</td>\n",
              "      <td>76</td>\n",
              "      <td>72</td>\n",
              "      <td>40</td>\n",
              "      <td>66</td>\n",
              "      <td>135</td>\n",
              "      <td>85</td>\n",
              "      <td>139</td>\n",
              "      <td>179</td>\n",
              "      <td>...</td>\n",
              "      <td>182</td>\n",
              "      <td>134</td>\n",
              "      <td>191</td>\n",
              "      <td>133</td>\n",
              "      <td>98</td>\n",
              "      <td>36</td>\n",
              "      <td>123</td>\n",
              "      <td>139</td>\n",
              "      <td>50</td>\n",
              "      <td>3</td>\n",
              "    </tr>\n",
              "    <tr>\n",
              "      <th>4</th>\n",
              "      <td>57</td>\n",
              "      <td>66</td>\n",
              "      <td>161</td>\n",
              "      <td>54</td>\n",
              "      <td>158</td>\n",
              "      <td>35</td>\n",
              "      <td>53</td>\n",
              "      <td>55</td>\n",
              "      <td>91</td>\n",
              "      <td>10</td>\n",
              "      <td>...</td>\n",
              "      <td>22</td>\n",
              "      <td>141</td>\n",
              "      <td>182</td>\n",
              "      <td>42</td>\n",
              "      <td>1</td>\n",
              "      <td>192</td>\n",
              "      <td>192</td>\n",
              "      <td>145</td>\n",
              "      <td>50</td>\n",
              "      <td>113</td>\n",
              "    </tr>\n",
              "    <tr>\n",
              "      <th>...</th>\n",
              "      <td>...</td>\n",
              "      <td>...</td>\n",
              "      <td>...</td>\n",
              "      <td>...</td>\n",
              "      <td>...</td>\n",
              "      <td>...</td>\n",
              "      <td>...</td>\n",
              "      <td>...</td>\n",
              "      <td>...</td>\n",
              "      <td>...</td>\n",
              "      <td>...</td>\n",
              "      <td>...</td>\n",
              "      <td>...</td>\n",
              "      <td>...</td>\n",
              "      <td>...</td>\n",
              "      <td>...</td>\n",
              "      <td>...</td>\n",
              "      <td>...</td>\n",
              "      <td>...</td>\n",
              "      <td>...</td>\n",
              "      <td>...</td>\n",
              "    </tr>\n",
              "    <tr>\n",
              "      <th>95</th>\n",
              "      <td>172</td>\n",
              "      <td>2</td>\n",
              "      <td>157</td>\n",
              "      <td>9</td>\n",
              "      <td>60</td>\n",
              "      <td>46</td>\n",
              "      <td>99</td>\n",
              "      <td>124</td>\n",
              "      <td>6</td>\n",
              "      <td>150</td>\n",
              "      <td>...</td>\n",
              "      <td>30</td>\n",
              "      <td>87</td>\n",
              "      <td>19</td>\n",
              "      <td>29</td>\n",
              "      <td>159</td>\n",
              "      <td>149</td>\n",
              "      <td>151</td>\n",
              "      <td>17</td>\n",
              "      <td>53</td>\n",
              "      <td>52</td>\n",
              "    </tr>\n",
              "    <tr>\n",
              "      <th>96</th>\n",
              "      <td>33</td>\n",
              "      <td>116</td>\n",
              "      <td>100</td>\n",
              "      <td>115</td>\n",
              "      <td>200</td>\n",
              "      <td>52</td>\n",
              "      <td>96</td>\n",
              "      <td>170</td>\n",
              "      <td>26</td>\n",
              "      <td>97</td>\n",
              "      <td>...</td>\n",
              "      <td>179</td>\n",
              "      <td>2</td>\n",
              "      <td>13</td>\n",
              "      <td>3</td>\n",
              "      <td>38</td>\n",
              "      <td>139</td>\n",
              "      <td>157</td>\n",
              "      <td>173</td>\n",
              "      <td>108</td>\n",
              "      <td>27</td>\n",
              "    </tr>\n",
              "    <tr>\n",
              "      <th>97</th>\n",
              "      <td>1</td>\n",
              "      <td>192</td>\n",
              "      <td>21</td>\n",
              "      <td>121</td>\n",
              "      <td>164</td>\n",
              "      <td>85</td>\n",
              "      <td>44</td>\n",
              "      <td>19</td>\n",
              "      <td>89</td>\n",
              "      <td>137</td>\n",
              "      <td>...</td>\n",
              "      <td>38</td>\n",
              "      <td>20</td>\n",
              "      <td>112</td>\n",
              "      <td>180</td>\n",
              "      <td>149</td>\n",
              "      <td>169</td>\n",
              "      <td>57</td>\n",
              "      <td>36</td>\n",
              "      <td>45</td>\n",
              "      <td>119</td>\n",
              "    </tr>\n",
              "    <tr>\n",
              "      <th>98</th>\n",
              "      <td>169</td>\n",
              "      <td>135</td>\n",
              "      <td>67</td>\n",
              "      <td>159</td>\n",
              "      <td>152</td>\n",
              "      <td>15</td>\n",
              "      <td>108</td>\n",
              "      <td>20</td>\n",
              "      <td>196</td>\n",
              "      <td>168</td>\n",
              "      <td>...</td>\n",
              "      <td>23</td>\n",
              "      <td>50</td>\n",
              "      <td>33</td>\n",
              "      <td>160</td>\n",
              "      <td>25</td>\n",
              "      <td>124</td>\n",
              "      <td>119</td>\n",
              "      <td>155</td>\n",
              "      <td>180</td>\n",
              "      <td>177</td>\n",
              "    </tr>\n",
              "    <tr>\n",
              "      <th>99</th>\n",
              "      <td>88</td>\n",
              "      <td>34</td>\n",
              "      <td>81</td>\n",
              "      <td>35</td>\n",
              "      <td>78</td>\n",
              "      <td>80</td>\n",
              "      <td>190</td>\n",
              "      <td>109</td>\n",
              "      <td>27</td>\n",
              "      <td>72</td>\n",
              "      <td>...</td>\n",
              "      <td>170</td>\n",
              "      <td>6</td>\n",
              "      <td>6</td>\n",
              "      <td>48</td>\n",
              "      <td>111</td>\n",
              "      <td>167</td>\n",
              "      <td>38</td>\n",
              "      <td>46</td>\n",
              "      <td>6</td>\n",
              "      <td>51</td>\n",
              "    </tr>\n",
              "  </tbody>\n",
              "</table>\n",
              "<p>100 rows × 30 columns</p>\n",
              "</div>\n",
              "      <button class=\"colab-df-convert\" onclick=\"convertToInteractive('df-72af9a52-e32a-42d5-ae95-42759fc4d72b')\"\n",
              "              title=\"Convert this dataframe to an interactive table.\"\n",
              "              style=\"display:none;\">\n",
              "        \n",
              "  <svg xmlns=\"http://www.w3.org/2000/svg\" height=\"24px\"viewBox=\"0 0 24 24\"\n",
              "       width=\"24px\">\n",
              "    <path d=\"M0 0h24v24H0V0z\" fill=\"none\"/>\n",
              "    <path d=\"M18.56 5.44l.94 2.06.94-2.06 2.06-.94-2.06-.94-.94-2.06-.94 2.06-2.06.94zm-11 1L8.5 8.5l.94-2.06 2.06-.94-2.06-.94L8.5 2.5l-.94 2.06-2.06.94zm10 10l.94 2.06.94-2.06 2.06-.94-2.06-.94-.94-2.06-.94 2.06-2.06.94z\"/><path d=\"M17.41 7.96l-1.37-1.37c-.4-.4-.92-.59-1.43-.59-.52 0-1.04.2-1.43.59L10.3 9.45l-7.72 7.72c-.78.78-.78 2.05 0 2.83L4 21.41c.39.39.9.59 1.41.59.51 0 1.02-.2 1.41-.59l7.78-7.78 2.81-2.81c.8-.78.8-2.07 0-2.86zM5.41 20L4 18.59l7.72-7.72 1.47 1.35L5.41 20z\"/>\n",
              "  </svg>\n",
              "      </button>\n",
              "      \n",
              "  <style>\n",
              "    .colab-df-container {\n",
              "      display:flex;\n",
              "      flex-wrap:wrap;\n",
              "      gap: 12px;\n",
              "    }\n",
              "\n",
              "    .colab-df-convert {\n",
              "      background-color: #E8F0FE;\n",
              "      border: none;\n",
              "      border-radius: 50%;\n",
              "      cursor: pointer;\n",
              "      display: none;\n",
              "      fill: #1967D2;\n",
              "      height: 32px;\n",
              "      padding: 0 0 0 0;\n",
              "      width: 32px;\n",
              "    }\n",
              "\n",
              "    .colab-df-convert:hover {\n",
              "      background-color: #E2EBFA;\n",
              "      box-shadow: 0px 1px 2px rgba(60, 64, 67, 0.3), 0px 1px 3px 1px rgba(60, 64, 67, 0.15);\n",
              "      fill: #174EA6;\n",
              "    }\n",
              "\n",
              "    [theme=dark] .colab-df-convert {\n",
              "      background-color: #3B4455;\n",
              "      fill: #D2E3FC;\n",
              "    }\n",
              "\n",
              "    [theme=dark] .colab-df-convert:hover {\n",
              "      background-color: #434B5C;\n",
              "      box-shadow: 0px 1px 3px 1px rgba(0, 0, 0, 0.15);\n",
              "      filter: drop-shadow(0px 1px 2px rgba(0, 0, 0, 0.3));\n",
              "      fill: #FFFFFF;\n",
              "    }\n",
              "  </style>\n",
              "\n",
              "      <script>\n",
              "        const buttonEl =\n",
              "          document.querySelector('#df-72af9a52-e32a-42d5-ae95-42759fc4d72b button.colab-df-convert');\n",
              "        buttonEl.style.display =\n",
              "          google.colab.kernel.accessAllowed ? 'block' : 'none';\n",
              "\n",
              "        async function convertToInteractive(key) {\n",
              "          const element = document.querySelector('#df-72af9a52-e32a-42d5-ae95-42759fc4d72b');\n",
              "          const dataTable =\n",
              "            await google.colab.kernel.invokeFunction('convertToInteractive',\n",
              "                                                     [key], {});\n",
              "          if (!dataTable) return;\n",
              "\n",
              "          const docLinkHtml = 'Like what you see? Visit the ' +\n",
              "            '<a target=\"_blank\" href=https://colab.research.google.com/notebooks/data_table.ipynb>data table notebook</a>'\n",
              "            + ' to learn more about interactive tables.';\n",
              "          element.innerHTML = '';\n",
              "          dataTable['output_type'] = 'display_data';\n",
              "          await google.colab.output.renderOutput(dataTable, element);\n",
              "          const docLink = document.createElement('div');\n",
              "          docLink.innerHTML = docLinkHtml;\n",
              "          element.appendChild(docLink);\n",
              "        }\n",
              "      </script>\n",
              "    </div>\n",
              "  </div>\n",
              "  "
            ]
          },
          "metadata": {},
          "execution_count": 78
        }
      ]
    },
    {
      "cell_type": "code",
      "source": [
        "# 1. Replace all the values with NA in the dataset defined between [10, 60]. \n",
        "df2 = df.replace(to_replace=list(range(10,60)), value=np.nan)\n",
        "df2\n",
        "# Print the count of number rows having missing values.\n",
        "sum(df2.apply(lambda x: sum(x.isnull().values), axis = 1)>0)"
      ],
      "metadata": {
        "colab": {
          "base_uri": "https://localhost:8080/"
        },
        "id": "078BDBQ2Vrfq",
        "outputId": "8d68760b-7608-4f4b-84de-ffd6cd6a8397"
      },
      "execution_count": 86,
      "outputs": [
        {
          "output_type": "execute_result",
          "data": {
            "text/plain": [
              "100"
            ]
          },
          "metadata": {},
          "execution_count": 86
        }
      ]
    },
    {
      "cell_type": "code",
      "source": [
        "# 2. Replace all the NA values with the average of the column value.\n",
        "df2"
      ],
      "metadata": {
        "id": "QjsrbRj7XqPY"
      },
      "execution_count": null,
      "outputs": []
    },
    {
      "cell_type": "markdown",
      "source": [
        "#### Q13. Create a random dataset of 500 rows and 10 columns.\n",
        "```\n",
        "* Columns 1 to 4 are defined between [-10, 10];\n",
        "* Columns 5 to 8 are defined between [10, 20];\n",
        "* Columns 9 to 10 are defined between [-100, 100].\n",
        "```\n",
        "Apply following clustering algorithms; determine the optimal number of clusters and plot distance metric\n",
        "graph using each algorithm.\n",
        "```\n",
        "1. K-Mean clustering\n",
        "2. Hierarchical clustering\n",
        "```\n"
      ],
      "metadata": {
        "id": "0KSMwFT0aIiW"
      }
    },
    {
      "cell_type": "code",
      "source": [],
      "metadata": {
        "id": "ZxyDUl6kaZKY"
      },
      "execution_count": null,
      "outputs": []
    },
    {
      "cell_type": "markdown",
      "source": [
        "#### Q14. Create a random dataset of 600 rows and 15 columns. All the values are defined between [-100,100]. Perform the following operations:\n",
        "```\n",
        "1. Plot scatter graph between Column 5 and Column 6.\n",
        "2. Plot histogram of each column in single graph.\n",
        "3. Plot the Box plot of each column in single graph.\n",
        "```"
      ],
      "metadata": {
        "id": "8tzsrurQa4Eu"
      }
    },
    {
      "cell_type": "code",
      "source": [],
      "metadata": {
        "id": "6cvkevkwbIve"
      },
      "execution_count": null,
      "outputs": []
    },
    {
      "cell_type": "markdown",
      "source": [
        "#### Q15. Create a random dataset of 500 rows and 5 columns:\n",
        "```\n",
        "* All the values are defined between [5,10].\n",
        "* Perform the following operations:\n",
        "------------>\n",
        "1. Perform t-Test on each column.\n",
        "2. Perform Wilcoxon Signed Rank Test on each column.\n",
        "3. Perform Two Sample t-Test and Wilcoxon Rank Sum Test on Column 3 and Column 4\n",
        "```"
      ],
      "metadata": {
        "id": "QkRbbV8ebI9A"
      }
    },
    {
      "cell_type": "code",
      "source": [],
      "metadata": {
        "id": "n-Jv644xbrlo"
      },
      "execution_count": null,
      "outputs": []
    }
  ]
}