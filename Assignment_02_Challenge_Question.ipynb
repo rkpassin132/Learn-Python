{
  "nbformat": 4,
  "nbformat_minor": 0,
  "metadata": {
    "colab": {
      "provenance": [],
      "authorship_tag": "ABX9TyNXc5VpV5kacd+7aRJc0tZ+",
      "include_colab_link": true
    },
    "kernelspec": {
      "name": "python3",
      "display_name": "Python 3"
    },
    "language_info": {
      "name": "python"
    }
  },
  "cells": [
    {
      "cell_type": "markdown",
      "metadata": {
        "id": "view-in-github",
        "colab_type": "text"
      },
      "source": [
        "<a href=\"https://colab.research.google.com/github/rkpassin132/Learn-Python/blob/main/Assignment_02_Challenge_Question.ipynb\" target=\"_parent\"><img src=\"https://colab.research.google.com/assets/colab-badge.svg\" alt=\"Open In Colab\"/></a>"
      ]
    },
    {
      "cell_type": "markdown",
      "source": [
        "# Assignment-02: Challenge Question\n",
        "### Write a python program to sort the list of heterogeneous data. "
      ],
      "metadata": {
        "id": "8oNb5FD-khHv"
      }
    },
    {
      "cell_type": "code",
      "source": [
        "L = [\"Ram\", 1, \"Shyam\", 2, \"Aman\", 3]\n",
        "def mixs(num):\n",
        "    try:\n",
        "        ele = int(num)\n",
        "        return (0, ele, '')\n",
        "    except ValueError:\n",
        "        return (1, num, '')\n",
        "# Approach 1\n",
        "# Time Complexity : O(N logN)\n",
        "# Space complexity : O(1)       \n",
        "print(\"Original list : \", L)\n",
        "L.sort(key=mixs)\n",
        "print(\"Sorted list : \", L)\n",
        "\n",
        "# Approach 1\n",
        "# Time Complexity : O(N logN)\n",
        "# Space complexity : O(N) \n",
        "res = []\n",
        "x=[]\n",
        "for i in L:\n",
        "    if str(i).isnumeric():\n",
        "        res.append(i)\n",
        "    else:\n",
        "        x.append(i)\n",
        "res.sort()\n",
        "x.sort()\n",
        "res.extend(x)\n",
        "print(\"Sorted list : \", res)"
      ],
      "metadata": {
        "colab": {
          "base_uri": "https://localhost:8080/"
        },
        "id": "nfaxBOlwkq6i",
        "outputId": "9aaa8ec3-cfe9-434c-d4ac-19b449e72cc8"
      },
      "execution_count": null,
      "outputs": [
        {
          "output_type": "stream",
          "name": "stdout",
          "text": [
            "Original list :  ['Ram', 1, 'Shyam', 2, 'Aman', 3]\n",
            "Sorted list :  [1, 2, 3, 'Aman', 'Ram', 'Shyam']\n",
            "Sorted list :  [1, 2, 3, 'Aman', 'Ram', 'Shyam']\n"
          ]
        }
      ]
    }
  ]
}